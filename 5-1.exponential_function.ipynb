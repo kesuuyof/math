{
 "cells": [
  {
   "cell_type": "markdown",
   "metadata": {},
   "source": [
    "# 5-1. 指数関数\n",
    "## 指数法則Ⅰ\n",
    "\n",
    "$ a^m * a^n = a^{m+n} $ 例： $ 2^3 \\times 2^5 = 2^8 $\n",
    "\n",
    "$ (a^m)^n = a^{mn} $ 例：$ (3^2)^3 = 3^6 $\n",
    "\n",
    "$ (ab)^n = a^nb^n $ 例：$ (4x)^2 = 4^2 \\times x^2 $\n",
    "\n",
    "$ (\\frac{a}{b})^2 = \\frac{a^n}{b^n} $ 例：$ (\\frac{2}{3})^4 = \\frac{3^3}{2^3} = \\frac{8}{27} $\n",
    "\n",
    "$ a^m \\div a^n = a^{m-n} $\n",
    "\n",
    "#### m > n のとき\n",
    "$ a^6 \\div a^2 = a^{4(=6-2)} $\n",
    "\n",
    "#### m = n のとき1\n",
    "#### m < n のとき\n",
    "$ x^3 \\div x^5 = \\frac {x^3}{x^5} = \\frac{xxx}{xxxxx} = \\frac{1}{x^2} $\n",
    "\n"
   ]
  },
  {
   "cell_type": "markdown",
   "metadata": {},
   "source": [
    "## 指数法則Ⅱ\n",
    "#### 定義[a > 0, nが正の整数（自然数）]\n",
    "$ a^0 = 1 $\n",
    "$ a^{-n} = \\frac{1}{a^n} $\n",
    "$ a^{-1} = \\frac{1}{a} $\n",
    "\n",
    "### 問題\n",
    "- $ 128 \\div 4^3 = 2^7 \\div 2^6 = 2^1 = 2$\n",
    "- $ a^7 \\times a^{-4} = a^3 $\n",
    "- $　(ab)^2 \\div (b^{-2})^3 = a^2 \\times b^2 \\div b^{-6} = a^2\\times b^{2-(-6)} = a^2b^8　$\n",
    "\n",
    "### 問題\n",
    "- $ 4^{-2} \\times 8^3 \\div 2^7 = 2^{-4} \\times 2^{9} \\div 2^7 = 2^{-2} = 0.25 $\n",
    "- $ 9 \\div 27^{-3} \\div (3^{-2})^{-4} = 3^2 \\div 3^{-9} \\div 3^8 = 3^3 = 27 $\n",
    "- $ a^3 \\times a^7 \\div(a^{-2})^3 = a^3 \\times a^7 \\div a^{-6} = a^{16} $\n",
    "- $ (a^3b)^{-3} \\div (a^{-2}b^{-3})^5 = (a^{-9} b^{-3}) \\div (a^{-10} b^{-15}) = a b^{12} $\n"
   ]
  }
 ],
 "metadata": {
  "anaconda-cloud": {},
  "kernelspec": {
   "display_name": "Python [conda root]",
   "language": "python",
   "name": "conda-root-py"
  },
  "language_info": {
   "codemirror_mode": {
    "name": "ipython",
    "version": 3
   },
   "file_extension": ".py",
   "mimetype": "text/x-python",
   "name": "python",
   "nbconvert_exporter": "python",
   "pygments_lexer": "ipython3",
   "version": "3.5.2"
  }
 },
 "nbformat": 4,
 "nbformat_minor": 1
}
